{
  "nbformat": 4,
  "nbformat_minor": 0,
  "metadata": {
    "colab": {
      "provenance": [],
      "gpuType": "T4",
      "include_colab_link": true
    },
    "kernelspec": {
      "name": "python3",
      "display_name": "Python 3"
    },
    "language_info": {
      "name": "python"
    },
    "accelerator": "GPU"
  },
  "cells": [
    {
      "cell_type": "markdown",
      "metadata": {
        "id": "view-in-github",
        "colab_type": "text"
      },
      "source": [
        "<a href=\"https://colab.research.google.com/github/JohnYechanJo/Medical-Image-AI/blob/main/Data_Preparation_and_Collection/Image_Classification_Using_MLP.ipynb\" target=\"_parent\"><img src=\"https://colab.research.google.com/assets/colab-badge.svg\" alt=\"Open In Colab\"/></a>"
      ]
    },
    {
      "cell_type": "code",
      "execution_count": 1,
      "metadata": {
        "id": "lNNJ0IYfQSzw"
      },
      "outputs": [],
      "source": [
        "from sklearn.datasets import fetch_openml\n",
        "dataset = fetch_openml('mnist_784', parser='auto')"
      ]
    },
    {
      "cell_type": "code",
      "source": [
        "import numpy as np\n",
        "import torch\n",
        "X = torch.tensor(dataset.data.to_numpy(np.float32))\n",
        "y = torch.tensor(dataset.target.to_numpy(np.int64))"
      ],
      "metadata": {
        "id": "3IkPqBBiQhs4"
      },
      "execution_count": 2,
      "outputs": []
    },
    {
      "cell_type": "code",
      "source": [
        "import matplotlib.pyplot as plt\n",
        "\n",
        "for i in range(5):\n",
        "  image = X[i].reshape(28, 28)\n",
        "  plt.imshow(image, cmap = \"binary\")\n",
        "  plt.axis(\"off\")\n",
        "  plt.show()"
      ],
      "metadata": {
        "colab": {
          "base_uri": "https://localhost:8080/",
          "height": 1000
        },
        "id": "I3CKR_dEQsq_",
        "outputId": "82615b15-3e87-41d8-924d-6d145167089b"
      },
      "execution_count": 3,
      "outputs": [
        {
          "output_type": "display_data",
          "data": {
            "text/plain": [
              "<Figure size 640x480 with 1 Axes>"
            ],
            "image/png": "[encoded data removed]"
          },
          "metadata": {}
        },
        {
          "output_type": "display_data",
          "data": {
            "text/plain": [
              "<Figure size 640x480 with 1 Axes>"
            ],
            "image/png": "[encoded data removed]"
          },
          "metadata": {}
        },
        {
          "output_type": "display_data",
          "data": {
            "text/plain": [
              "<Figure size 640x480 with 1 Axes>"
            ],
            "image/png": "[encoded data removed]"
          },
          "metadata": {}
        },
        {
          "output_type": "display_data",
          "data": {
            "text/plain": [
              "<Figure size 640x480 with 1 Axes>"
            ],
            "image/png": "[encoded data removed]"
          },
          "metadata": {}
        },
        {
          "output_type": "display_data",
          "data": {
            "text/plain": [
              "<Figure size 640x480 with 1 Axes>"
            ],
            "image/png": "[encoded data removed]"
          },
          "metadata": {}
        }
      ]
    },
    {
      "cell_type": "code",
      "source": [
        "import torch.nn as nn\n",
        "import torch.nn.functional as F\n",
        "\n",
        "class MLP(nn.Module):\n",
        "  def __init__(self, hidden_units):\n",
        "    super().__init__()\n",
        "    self.fc1 = nn.Linear(784, hidden_units)\n",
        "    self.fc2 = nn.Linear(hidden_units, 10)\n",
        "\n",
        "  def forward(self, x):\n",
        "    x = self.fc1(x)\n",
        "    x = F.relu(x)\n",
        "    x = self.fc2(x)\n",
        "    return x"
      ],
      "metadata": {
        "id": "gUmlwF9RTu-o"
      },
      "execution_count": 4,
      "outputs": []
    },
    {
      "cell_type": "code",
      "source": [
        "model = MLP(1000)\n",
        "optimizer = torch.optim.SGD(model.parameters(), lr=0.01)\n",
        "criterion = nn.CrossEntropyLoss()"
      ],
      "metadata": {
        "id": "KA_nbEa5URhG"
      },
      "execution_count": 5,
      "outputs": []
    },
    {
      "cell_type": "code",
      "source": [
        "def train(model, optimizer, criterion):\n",
        "  for epoch in range(100):\n",
        "    y_pred = model(X)\n",
        "\n",
        "    loss = criterion(y_pred, y)\n",
        "    print(f\"Epoch: {epoch} / Loss: {loss}\")\n",
        "\n",
        "    optimizer.zero_grad()\n",
        "    loss.backward()\n",
        "    optimizer.step()\n",
        "\n",
        "train(model, optimizer, criterion)"
      ],
      "metadata": {
        "colab": {
          "base_uri": "https://localhost:8080/"
        },
        "id": "_zhPAMEPUz6q",
        "outputId": "0af78365-ff09-47f4-e1eb-5bc19deb936b"
      },
      "execution_count": 6,
      "outputs": [
        {
          "output_type": "stream",
          "name": "stdout",
          "text": [
            "Epoch: 0 / Loss: 27.39946746826172\n",
            "Epoch: 1 / Loss: 1163.5740966796875\n",
            "Epoch: 2 / Loss: 937.352783203125\n",
            "Epoch: 3 / Loss: 118.39018249511719\n",
            "Epoch: 4 / Loss: 81.14273834228516\n",
            "Epoch: 5 / Loss: 125.86335754394531\n",
            "Epoch: 6 / Loss: 27.009843826293945\n",
            "Epoch: 7 / Loss: 45.24903869628906\n",
            "Epoch: 8 / Loss: 89.36662292480469\n",
            "Epoch: 9 / Loss: 50.54071044921875\n",
            "Epoch: 10 / Loss: 148.49899291992188\n",
            "Epoch: 11 / Loss: 178.53976440429688\n",
            "Epoch: 12 / Loss: 227.323974609375\n",
            "Epoch: 13 / Loss: 300.5968933105469\n",
            "Epoch: 14 / Loss: 148.25311279296875\n",
            "Epoch: 15 / Loss: 139.30455017089844\n",
            "Epoch: 16 / Loss: 31.062685012817383\n",
            "Epoch: 17 / Loss: 34.59360885620117\n",
            "Epoch: 18 / Loss: 43.68918991088867\n",
            "Epoch: 19 / Loss: 28.258691787719727\n",
            "Epoch: 20 / Loss: 10.580484390258789\n",
            "Epoch: 21 / Loss: 6.377216815948486\n",
            "Epoch: 22 / Loss: 2.2007484436035156\n",
            "Epoch: 23 / Loss: 1.221726417541504\n",
            "Epoch: 24 / Loss: 1.0762240886688232\n",
            "Epoch: 25 / Loss: 0.9631949663162231\n",
            "Epoch: 26 / Loss: 0.8605612516403198\n",
            "Epoch: 27 / Loss: 0.7786977291107178\n",
            "Epoch: 28 / Loss: 0.7151066064834595\n",
            "Epoch: 29 / Loss: 0.6652584075927734\n",
            "Epoch: 30 / Loss: 0.6308376789093018\n",
            "Epoch: 31 / Loss: 0.6455506086349487\n",
            "Epoch: 32 / Loss: 0.8392794728279114\n",
            "Epoch: 33 / Loss: 0.8055723905563354\n",
            "Epoch: 34 / Loss: 0.6893825531005859\n",
            "Epoch: 35 / Loss: 0.6475340127944946\n",
            "Epoch: 36 / Loss: 0.7593233585357666\n",
            "Epoch: 37 / Loss: 0.6556327939033508\n",
            "Epoch: 38 / Loss: 0.5608845949172974\n",
            "Epoch: 39 / Loss: 0.5106472969055176\n",
            "Epoch: 40 / Loss: 0.48899340629577637\n",
            "Epoch: 41 / Loss: 0.4810348153114319\n",
            "Epoch: 42 / Loss: 0.5100365877151489\n",
            "Epoch: 43 / Loss: 0.5251119136810303\n",
            "Epoch: 44 / Loss: 0.6322972774505615\n",
            "Epoch: 45 / Loss: 0.47013962268829346\n",
            "Epoch: 46 / Loss: 0.43901845812797546\n",
            "Epoch: 47 / Loss: 0.41763636469841003\n",
            "Epoch: 48 / Loss: 0.4134375751018524\n",
            "Epoch: 49 / Loss: 0.40675050020217896\n",
            "Epoch: 50 / Loss: 0.42504972219467163\n",
            "Epoch: 51 / Loss: 0.4193860590457916\n",
            "Epoch: 52 / Loss: 0.4852813184261322\n",
            "Epoch: 53 / Loss: 0.3904639482498169\n",
            "Epoch: 54 / Loss: 0.3908303380012512\n",
            "Epoch: 55 / Loss: 0.37482741475105286\n",
            "Epoch: 56 / Loss: 0.3914826214313507\n",
            "Epoch: 57 / Loss: 0.37862688302993774\n",
            "Epoch: 58 / Loss: 0.41239091753959656\n",
            "Epoch: 59 / Loss: 0.3814733028411865\n",
            "Epoch: 60 / Loss: 0.4008672833442688\n",
            "Epoch: 61 / Loss: 0.3704741299152374\n",
            "Epoch: 62 / Loss: 0.37094646692276\n",
            "Epoch: 63 / Loss: 0.35575273633003235\n",
            "Epoch: 64 / Loss: 0.35289064049720764\n",
            "Epoch: 65 / Loss: 0.3420933187007904\n",
            "Epoch: 66 / Loss: 0.34062671661376953\n",
            "Epoch: 67 / Loss: 0.33098888397216797\n",
            "Epoch: 68 / Loss: 0.3340277373790741\n",
            "Epoch: 69 / Loss: 0.3240121901035309\n",
            "Epoch: 70 / Loss: 0.33487173914909363\n",
            "Epoch: 71 / Loss: 0.32176995277404785\n",
            "Epoch: 72 / Loss: 0.3423767685890198\n",
            "Epoch: 73 / Loss: 0.31940704584121704\n",
            "Epoch: 74 / Loss: 0.3420714735984802\n",
            "Epoch: 75 / Loss: 0.3124900162220001\n",
            "Epoch: 76 / Loss: 0.3278714418411255\n",
            "Epoch: 77 / Loss: 0.30793264508247375\n",
            "Epoch: 78 / Loss: 0.3208106458187103\n",
            "Epoch: 79 / Loss: 0.30819442868232727\n",
            "Epoch: 80 / Loss: 0.3210013508796692\n",
            "Epoch: 81 / Loss: 0.30806005001068115\n",
            "Epoch: 82 / Loss: 0.3172997236251831\n",
            "Epoch: 83 / Loss: 0.3002934157848358\n",
            "Epoch: 84 / Loss: 0.3019190728664398\n",
            "Epoch: 85 / Loss: 0.2853482663631439\n",
            "Epoch: 86 / Loss: 0.2828587591648102\n",
            "Epoch: 87 / Loss: 0.27195867896080017\n",
            "Epoch: 88 / Loss: 0.26981598138809204\n",
            "Epoch: 89 / Loss: 0.26361873745918274\n",
            "Epoch: 90 / Loss: 0.26304689049720764\n",
            "Epoch: 91 / Loss: 0.259022980928421\n",
            "Epoch: 92 / Loss: 0.2605384588241577\n",
            "Epoch: 93 / Loss: 0.2577253580093384\n",
            "Epoch: 94 / Loss: 0.26299405097961426\n",
            "Epoch: 95 / Loss: 0.2601011395454407\n",
            "Epoch: 96 / Loss: 0.27204179763793945\n",
            "Epoch: 97 / Loss: 0.2658016085624695\n",
            "Epoch: 98 / Loss: 0.28636956214904785\n",
            "Epoch: 99 / Loss: 0.2681850492954254\n"
          ]
        }
      ]
    },
    {
      "cell_type": "code",
      "source": [
        "y_pred = model(X[:5])\n",
        "y_pred.shape"
      ],
      "metadata": {
        "colab": {
          "base_uri": "https://localhost:8080/"
        },
        "id": "D3VPEEdMVpRC",
        "outputId": "000f96b4-b919-4704-a979-a7d9ea05afd9"
      },
      "execution_count": 7,
      "outputs": [
        {
          "output_type": "execute_result",
          "data": {
            "text/plain": [
              "torch.Size([5, 10])"
            ]
          },
          "metadata": {},
          "execution_count": 7
        }
      ]
    },
    {
      "cell_type": "code",
      "source": [
        "y_pred.argmax(1)"
      ],
      "metadata": {
        "colab": {
          "base_uri": "https://localhost:8080/"
        },
        "id": "iuXvMWhaX2TF",
        "outputId": "3bd7bdb8-56d2-4c41-ed74-607a33f56b87"
      },
      "execution_count": 8,
      "outputs": [
        {
          "output_type": "execute_result",
          "data": {
            "text/plain": [
              "tensor([5, 0, 4, 1, 9])"
            ]
          },
          "metadata": {},
          "execution_count": 8
        }
      ]
    }
  ]
}